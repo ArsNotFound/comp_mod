{
 "cells": [
  {
   "cell_type": "code",
   "execution_count": 1,
   "metadata": {
    "collapsed": true
   },
   "outputs": [],
   "source": [
    "import abc\n",
    "import os\n",
    "import random\n",
    "\n",
    "import scipy.stats\n",
    "import numpy as np\n",
    "import pandas as pd\n",
    "import matplotlib.pyplot as plt\n",
    "%matplotlib inline\n",
    "\n",
    "random.seed(os.urandom(16))"
   ]
  },
  {
   "cell_type": "code",
   "execution_count": 2,
   "outputs": [],
   "source": [
    "class RandomVariable(abc.ABC):\n",
    "    @abc.abstractmethod\n",
    "    def generate(self) -> int | float:\n",
    "        pass\n",
    "\n",
    "    @abc.abstractmethod\n",
    "    def generate_n(self, n: int) -> tuple[np.ndarray, np.ndarray]:\n",
    "        pass\n",
    "\n",
    "    def __call__(self, *args, **kwargs):\n",
    "        return self.generate()\n",
    "\n",
    "\n",
    "class DiscreteRandomVariable(RandomVariable, abc.ABC):\n",
    "    @abc.abstractmethod\n",
    "    def generate(self) -> int:\n",
    "        pass\n",
    "\n",
    "    def generate_n(self, n: int) -> tuple[np.ndarray, np.ndarray]:\n",
    "        raw = np.array([self.generate() for _ in range(n)])\n",
    "        values, counts = np.unique(raw, return_counts=True)\n",
    "        return values, counts\n",
    "\n",
    "\n",
    "class ContinuousRandomVariable(RandomVariable, abc.ABC):\n",
    "    @abc.abstractmethod\n",
    "    def generate(self) -> float:\n",
    "        pass\n",
    "\n",
    "    def generate_n(self, n: int) -> tuple[np.ndarray, np.ndarray]:\n",
    "        raw = np.array([self.generate() for _ in range(n)])\n",
    "\n",
    "        return np.histogram(raw, bins='sturges')"
   ],
   "metadata": {
    "collapsed": false
   }
  },
  {
   "cell_type": "markdown",
   "source": [
    "## Параметры"
   ],
   "metadata": {
    "collapsed": false
   }
  },
  {
   "cell_type": "code",
   "execution_count": 3,
   "outputs": [],
   "source": [
    "# Параметр лямбда для пуассоновской случайной переменной\n",
    "LAMBDA_POISSON = 0.5\n",
    "# Параметр лямбда для экспоненциальной случайной переменной\n",
    "LAMBDA_EXP = 0.5\n",
    "# Количество экспериментов\n",
    "N = 10000\n",
    "# Уровень значимости\n",
    "ALPHA = 0.05"
   ],
   "metadata": {
    "collapsed": false
   }
  },
  {
   "cell_type": "markdown",
   "source": [
    "## Пуассоновская случайная переменная"
   ],
   "metadata": {
    "collapsed": false
   }
  },
  {
   "cell_type": "code",
   "execution_count": 4,
   "outputs": [],
   "source": [
    "class Poisson(DiscreteRandomVariable):\n",
    "    def __init__(self, lambda_: float):\n",
    "        self._lambda = lambda_\n",
    "\n",
    "    @property\n",
    "    def lambda_(self) -> float:\n",
    "        return self._lambda\n",
    "\n",
    "    @lambda_.setter\n",
    "    def lambda_(self, value: float):\n",
    "        self._lambda = value\n",
    "\n",
    "    def generate(self) -> int:\n",
    "        u = np.random.uniform(0, 1)\n",
    "        i = 0\n",
    "        f = p = np.exp(-self._lambda)\n",
    "        while u >= f:\n",
    "            p = self._lambda * p / (i + 1)\n",
    "            f += p\n",
    "            i += 1\n",
    "        return i\n"
   ],
   "metadata": {
    "collapsed": false
   }
  },
  {
   "cell_type": "code",
   "execution_count": 5,
   "outputs": [],
   "source": [
    "@np.vectorize\n",
    "def poisson_prob(lambda_: float, i: int) -> float:\n",
    "    return np.exp(-lambda_) * (lambda_ ** i / np.math.factorial(i))\n",
    "\n",
    "def chi2_poisson(values: np.ndarray, counts: np.ndarray) -> tuple[float, int, pd.DataFrame]:\n",
    "    n = int(np.sum(counts))\n",
    "    if n > 5:\n",
    "        while counts[-1] < 5 and len(counts) > 2:\n",
    "            counts[-2] += counts[-1]\n",
    "            counts = counts[:-1]\n",
    "            values = values[:-1]\n",
    "    lambda_s = np.sum(values * counts) / n\n",
    "    p = poisson_prob(lambda_s, values)\n",
    "    ni = p * n\n",
    "    delta_n = counts - ni\n",
    "    delta_n2 = delta_n ** 2\n",
    "    k = delta_n2 / ni\n",
    "    table = pd.DataFrame({\"i\": values, \"n_i\": counts, \"n'_i\": ni, \"n_i - n'_i\": delta_n, \"(n_i - n'_i)^2\": delta_n2, \"K\": k}).reset_index(drop=True)\n",
    "    df = len(values) - 2\n",
    "    return float(np.sum(k)), df, table"
   ],
   "metadata": {
    "collapsed": false
   }
  },
  {
   "cell_type": "code",
   "execution_count": 6,
   "outputs": [
    {
     "data": {
      "text/plain": "[<matplotlib.lines.Line2D at 0x7faf163e1cf0>]"
     },
     "execution_count": 6,
     "metadata": {},
     "output_type": "execute_result"
    },
    {
     "data": {
      "text/plain": "<Figure size 640x480 with 1 Axes>",
      "image/png": "[encoded data removed]"
     },
     "metadata": {},
     "output_type": "display_data"
    }
   ],
   "source": [
    "poisson = Poisson(LAMBDA_POISSON)\n",
    "vals, c = poisson.generate_n(N)\n",
    "plt.scatter(vals, c)\n",
    "plt.plot(vals, c)"
   ],
   "metadata": {
    "collapsed": false
   }
  },
  {
   "cell_type": "code",
   "execution_count": 7,
   "outputs": [
    {
     "data": {
      "text/plain": "   i   n_i         n'_i  n_i - n'_i  (n_i - n'_i)^2         K\n0  0  6049  6045.928637    3.071363        9.433269  0.001560\n1  1  3024  3042.311290  -18.311290      335.303352  0.110213\n2  2   783   765.445521   17.554479      308.159746  0.402589\n3  3   134   128.390729    5.609271       31.463925  0.245064\n4  4    10    16.151554   -6.151554       37.841613  2.342909",
      "text/html": "<div>\n<style scoped>\n    .dataframe tbody tr th:only-of-type {\n        vertical-align: middle;\n    }\n\n    .dataframe tbody tr th {\n        vertical-align: top;\n    }\n\n    .dataframe thead th {\n        text-align: right;\n    }\n</style>\n<table border=\"1\" class=\"dataframe\">\n  <thead>\n    <tr style=\"text-align: right;\">\n      <th></th>\n      <th>i</th>\n      <th>n_i</th>\n      <th>n'_i</th>\n      <th>n_i - n'_i</th>\n      <th>(n_i - n'_i)^2</th>\n      <th>K</th>\n    </tr>\n  </thead>\n  <tbody>\n    <tr>\n      <th>0</th>\n      <td>0</td>\n      <td>6049</td>\n      <td>6045.928637</td>\n      <td>3.071363</td>\n      <td>9.433269</td>\n      <td>0.001560</td>\n    </tr>\n    <tr>\n      <th>1</th>\n      <td>1</td>\n      <td>3024</td>\n      <td>3042.311290</td>\n      <td>-18.311290</td>\n      <td>335.303352</td>\n      <td>0.110213</td>\n    </tr>\n    <tr>\n      <th>2</th>\n      <td>2</td>\n      <td>783</td>\n      <td>765.445521</td>\n      <td>17.554479</td>\n      <td>308.159746</td>\n      <td>0.402589</td>\n    </tr>\n    <tr>\n      <th>3</th>\n      <td>3</td>\n      <td>134</td>\n      <td>128.390729</td>\n      <td>5.609271</td>\n      <td>31.463925</td>\n      <td>0.245064</td>\n    </tr>\n    <tr>\n      <th>4</th>\n      <td>4</td>\n      <td>10</td>\n      <td>16.151554</td>\n      <td>-6.151554</td>\n      <td>37.841613</td>\n      <td>2.342909</td>\n    </tr>\n  </tbody>\n</table>\n</div>"
     },
     "metadata": {},
     "output_type": "display_data"
    },
    {
     "name": "stdout",
     "output_type": "stream",
     "text": [
      "chi2 = 3.1023347139893946\n",
      "df = 3\n",
      "chi2_crit = 7.814727903251178\n",
      "Гипотезу принимаем\n"
     ]
    }
   ],
   "source": [
    "chi2, df, t = chi2_poisson(vals, c)\n",
    "chi2_crit = scipy.stats.chi2.isf(ALPHA, df=df)\n",
    "display(t)\n",
    "print(f\"chi2 = {chi2}\")\n",
    "print(f\"df = {df}\")\n",
    "print(f\"chi2_crit = {chi2_crit}\")\n",
    "print(f\"Гипотезу {'принимаем' if chi2 < chi2_crit else 'отвергаем'}\")"
   ],
   "metadata": {
    "collapsed": false
   }
  },
  {
   "cell_type": "markdown",
   "source": [
    "## Экспоненциальная случайная переменная"
   ],
   "metadata": {
    "collapsed": false
   }
  },
  {
   "cell_type": "code",
   "execution_count": 8,
   "outputs": [],
   "source": [
    "class Exponential(ContinuousRandomVariable):\n",
    "    def __init__(self, lambda_: float):\n",
    "        self._lambda = lambda_\n",
    "\n",
    "    @property\n",
    "    def lambda_(self) -> float:\n",
    "        return self._lambda\n",
    "\n",
    "    @lambda_.setter\n",
    "    def lambda_(self, value: float):\n",
    "        self._lambda = value\n",
    "\n",
    "    def generate(self) -> float:\n",
    "        u = np.random.uniform(0, 1)\n",
    "        return -1 / self._lambda * np.log(1 - u)\n",
    "\n",
    "\n",
    "exponential = Exponential(LAMBDA_EXP)"
   ],
   "metadata": {
    "collapsed": false
   }
  },
  {
   "cell_type": "code",
   "execution_count": 9,
   "outputs": [],
   "source": [
    "@np.vectorize\n",
    "def exp_prob(lambda_: float, start: float, end: float) -> float:\n",
    "    return np.exp(-lambda_ * start) - np.exp(-lambda_ * end)\n",
    "\n",
    "def chi2_exp(bins: np.ndarray, counts: np.ndarray) -> tuple[float, int, pd.DataFrame]:\n",
    "    n = int(np.sum(counts))\n",
    "    if n > 5:\n",
    "        while counts[-1] < 5 and len(counts) > 2:\n",
    "            counts[-2] += counts[-1]\n",
    "            counts = counts[:-1]\n",
    "            bins = bins[:-1]\n",
    "    values = (bins[1:] + bins[:-1]) / 2\n",
    "    x_b = np.sum(values * counts) / n\n",
    "    lambda_s = 1 / x_b\n",
    "    p = exp_prob(lambda_s, bins[:-1], bins[1:])\n",
    "    ni = p * n\n",
    "    delta_n = counts - ni\n",
    "    delta_n2 = delta_n ** 2\n",
    "    k = delta_n2 / ni\n",
    "    table = pd.DataFrame({\"i\": values, \"n_i\": counts, \"n'_i\": ni, \"n_i - n'_i\": delta_n, \"(n_i - n'_i)^2\": delta_n2, \"K\": k}).reset_index(drop=True)\n",
    "    df = len(values) - 2\n",
    "    return float(np.sum(k)), df, table"
   ],
   "metadata": {
    "collapsed": false
   }
  },
  {
   "cell_type": "code",
   "execution_count": 10,
   "outputs": [
    {
     "data": {
      "text/plain": "<matplotlib.patches.StepPatch at 0x7faf1624a440>"
     },
     "execution_count": 10,
     "metadata": {},
     "output_type": "execute_result"
    },
    {
     "data": {
      "text/plain": "<Figure size 640x480 with 1 Axes>",
      "image/png": "[encoded data removed]"
     },
     "metadata": {},
     "output_type": "display_data"
    }
   ],
   "source": [
    "c, b = exponential.generate_n(N)\n",
    "plt.stairs(c, b, fill=True)"
   ],
   "metadata": {
    "collapsed": false
   }
  },
  {
   "cell_type": "code",
   "execution_count": 11,
   "outputs": [
    {
     "data": {
      "text/plain": "            i   n_i         n'_i  n_i - n'_i  (n_i - n'_i)^2         K\n0    0.559756  4213  4189.393318   23.606682      557.275435  0.133021\n1    1.679210  2466  2434.267335   31.732665     1006.962024  0.413661\n2    2.798665  1425  1414.442858   10.557142      111.453244  0.078797\n3    3.918119   816   821.868893   -5.868893       34.443900  0.041909\n4    5.037574   456   477.550912  -21.550912      464.441800  0.972549\n5    6.157028   284   277.483277    6.516723       42.467682  0.153046\n6    7.276483   156   161.233006   -5.233006       27.384348  0.169843\n7    8.395937    98    93.685221    4.314779       18.617317  0.198722\n8    9.515392    39    54.436253  -15.436253      238.277898  4.377191\n9   10.634846    20    31.630449  -11.630449      135.267345  4.276491\n10  11.754301     8    18.379026  -10.379026      107.724181  5.861256\n11  12.873755    11    10.679222    0.320778        0.102898  0.009635\n12  13.993210     8     6.205214    1.794786        3.221257  0.519121",
      "text/html": "<div>\n<style scoped>\n    .dataframe tbody tr th:only-of-type {\n        vertical-align: middle;\n    }\n\n    .dataframe tbody tr th {\n        vertical-align: top;\n    }\n\n    .dataframe thead th {\n        text-align: right;\n    }\n</style>\n<table border=\"1\" class=\"dataframe\">\n  <thead>\n    <tr style=\"text-align: right;\">\n      <th></th>\n      <th>i</th>\n      <th>n_i</th>\n      <th>n'_i</th>\n      <th>n_i - n'_i</th>\n      <th>(n_i - n'_i)^2</th>\n      <th>K</th>\n    </tr>\n  </thead>\n  <tbody>\n    <tr>\n      <th>0</th>\n      <td>0.559756</td>\n      <td>4213</td>\n      <td>4189.393318</td>\n      <td>23.606682</td>\n      <td>557.275435</td>\n      <td>0.133021</td>\n    </tr>\n    <tr>\n      <th>1</th>\n      <td>1.679210</td>\n      <td>2466</td>\n      <td>2434.267335</td>\n      <td>31.732665</td>\n      <td>1006.962024</td>\n      <td>0.413661</td>\n    </tr>\n    <tr>\n      <th>2</th>\n      <td>2.798665</td>\n      <td>1425</td>\n      <td>1414.442858</td>\n      <td>10.557142</td>\n      <td>111.453244</td>\n      <td>0.078797</td>\n    </tr>\n    <tr>\n      <th>3</th>\n      <td>3.918119</td>\n      <td>816</td>\n      <td>821.868893</td>\n      <td>-5.868893</td>\n      <td>34.443900</td>\n      <td>0.041909</td>\n    </tr>\n    <tr>\n      <th>4</th>\n      <td>5.037574</td>\n      <td>456</td>\n      <td>477.550912</td>\n      <td>-21.550912</td>\n      <td>464.441800</td>\n      <td>0.972549</td>\n    </tr>\n    <tr>\n      <th>5</th>\n      <td>6.157028</td>\n      <td>284</td>\n      <td>277.483277</td>\n      <td>6.516723</td>\n      <td>42.467682</td>\n      <td>0.153046</td>\n    </tr>\n    <tr>\n      <th>6</th>\n      <td>7.276483</td>\n      <td>156</td>\n      <td>161.233006</td>\n      <td>-5.233006</td>\n      <td>27.384348</td>\n      <td>0.169843</td>\n    </tr>\n    <tr>\n      <th>7</th>\n      <td>8.395937</td>\n      <td>98</td>\n      <td>93.685221</td>\n      <td>4.314779</td>\n      <td>18.617317</td>\n      <td>0.198722</td>\n    </tr>\n    <tr>\n      <th>8</th>\n      <td>9.515392</td>\n      <td>39</td>\n      <td>54.436253</td>\n      <td>-15.436253</td>\n      <td>238.277898</td>\n      <td>4.377191</td>\n    </tr>\n    <tr>\n      <th>9</th>\n      <td>10.634846</td>\n      <td>20</td>\n      <td>31.630449</td>\n      <td>-11.630449</td>\n      <td>135.267345</td>\n      <td>4.276491</td>\n    </tr>\n    <tr>\n      <th>10</th>\n      <td>11.754301</td>\n      <td>8</td>\n      <td>18.379026</td>\n      <td>-10.379026</td>\n      <td>107.724181</td>\n      <td>5.861256</td>\n    </tr>\n    <tr>\n      <th>11</th>\n      <td>12.873755</td>\n      <td>11</td>\n      <td>10.679222</td>\n      <td>0.320778</td>\n      <td>0.102898</td>\n      <td>0.009635</td>\n    </tr>\n    <tr>\n      <th>12</th>\n      <td>13.993210</td>\n      <td>8</td>\n      <td>6.205214</td>\n      <td>1.794786</td>\n      <td>3.221257</td>\n      <td>0.519121</td>\n    </tr>\n  </tbody>\n</table>\n</div>"
     },
     "metadata": {},
     "output_type": "display_data"
    },
    {
     "name": "stdout",
     "output_type": "stream",
     "text": [
      "chi2 = 17.205243617407714\n",
      "df = 11\n",
      "chi2_crit = 19.67513757268249\n",
      "Гипотезу принимаем\n"
     ]
    }
   ],
   "source": [
    "chi2, df, t = chi2_exp(b, c)\n",
    "display(t)\n",
    "\n",
    "chi2_crit = scipy.stats.chi2.isf(ALPHA, df=df, loc=0, scale=1)\n",
    "print(f\"chi2 = {chi2}\")\n",
    "print(f\"df = {df}\")\n",
    "print(f\"chi2_crit = {chi2_crit}\")\n",
    "print(f\"Гипотезу {'принимаем' if chi2 < chi2_crit else 'отвергаем'}\")"
   ],
   "metadata": {
    "collapsed": false
   }
  },
  {
   "cell_type": "code",
   "execution_count": 11,
   "outputs": [],
   "source": [],
   "metadata": {
    "collapsed": false
   }
  },
  {
   "cell_type": "code",
   "execution_count": 11,
   "outputs": [],
   "source": [],
   "metadata": {
    "collapsed": false
   }
  }
 ],
 "metadata": {
  "kernelspec": {
   "display_name": "Python 3",
   "language": "python",
   "name": "python3"
  },
  "language_info": {
   "codemirror_mode": {
    "name": "ipython",
    "version": 2
   },
   "file_extension": ".py",
   "mimetype": "text/x-python",
   "name": "python",
   "nbconvert_exporter": "python",
   "pygments_lexer": "ipython2",
   "version": "2.7.6"
  }
 },
 "nbformat": 4,
 "nbformat_minor": 0
}

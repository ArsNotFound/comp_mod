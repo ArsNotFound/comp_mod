{
 "cells": [
  {
   "cell_type": "code",
   "execution_count": 1,
   "metadata": {
    "collapsed": true
   },
   "outputs": [],
   "source": [
    "import abc\n",
    "import os\n",
    "import random\n",
    "\n",
    "import scipy.stats\n",
    "import numpy as np\n",
    "import matplotlib.pyplot as plt\n",
    "%matplotlib inline\n",
    "\n",
    "random.seed(os.urandom(16))"
   ]
  },
  {
   "cell_type": "code",
   "execution_count": 2,
   "outputs": [],
   "source": [
    "class RandomVariable(abc.ABC):\n",
    "    @abc.abstractmethod\n",
    "    def generate(self) -> int | float:\n",
    "        pass\n",
    "\n",
    "    @abc.abstractmethod\n",
    "    def generate_n(self, n: int) -> tuple[np.ndarray, np.ndarray]:\n",
    "        pass\n",
    "\n",
    "    def __call__(self, *args, **kwargs):\n",
    "        return self.generate()\n",
    "\n",
    "\n",
    "class DiscreteRandomVariable(RandomVariable, abc.ABC):\n",
    "    @abc.abstractmethod\n",
    "    def generate(self) -> int:\n",
    "        pass\n",
    "\n",
    "    def generate_n(self, n: int) -> tuple[np.ndarray, np.ndarray]:\n",
    "        raw = np.array([self.generate() for _ in range(n)])\n",
    "        values, counts = np.unique(raw, return_counts=True)\n",
    "        return values, counts\n",
    "\n",
    "\n",
    "class ContinuousRandomVariable(RandomVariable, abc.ABC):\n",
    "    @abc.abstractmethod\n",
    "    def generate(self) -> float:\n",
    "        pass\n",
    "\n",
    "    def generate_n(self, n: int) -> tuple[np.ndarray, np.ndarray]:\n",
    "        raw = np.array([self.generate() for _ in range(n)])\n",
    "\n",
    "        return np.histogram(raw, bins='sturges')"
   ],
   "metadata": {
    "collapsed": false
   }
  },
  {
   "cell_type": "markdown",
   "source": [
    "## Параметры"
   ],
   "metadata": {
    "collapsed": false
   }
  },
  {
   "cell_type": "code",
   "execution_count": 3,
   "outputs": [],
   "source": [
    "# Параметр лямбда для пуассоновской случайной переменной\n",
    "LAMBDA_POISSON = 0.5\n",
    "# Параметр лямбда для экспоненциальной случайной переменной\n",
    "LAMBDA_EXP = 0.5\n",
    "# Количество экспериментов\n",
    "N = 1000\n",
    "# Уровень значимости\n",
    "ALPHA = 0.05"
   ],
   "metadata": {
    "collapsed": false
   }
  },
  {
   "cell_type": "markdown",
   "source": [
    "## Пуассоновская случайная переменная"
   ],
   "metadata": {
    "collapsed": false
   }
  },
  {
   "cell_type": "code",
   "execution_count": 4,
   "outputs": [],
   "source": [
    "class Poisson(DiscreteRandomVariable):\n",
    "    def __init__(self, lambda_: float):\n",
    "        self._lambda = lambda_\n",
    "\n",
    "    @property\n",
    "    def lambda_(self) -> float:\n",
    "        return self._lambda\n",
    "\n",
    "    @lambda_.setter\n",
    "    def lambda_(self, value: float):\n",
    "        self._lambda = value\n",
    "\n",
    "    def generate(self) -> int:\n",
    "        u = np.random.uniform(0, 1)\n",
    "        i = 0\n",
    "        f = p = np.exp(-self._lambda)\n",
    "        while u >= f:\n",
    "            p = self._lambda * p / (i + 1)\n",
    "            f += p\n",
    "            i += 1\n",
    "        return i\n"
   ],
   "metadata": {
    "collapsed": false
   }
  },
  {
   "cell_type": "code",
   "execution_count": 89,
   "outputs": [],
   "source": [
    "@np.vectorize\n",
    "def poisson_prob(lambda_: float, i: int) -> float:\n",
    "    return np.exp(-lambda_) * (lambda_ ** i / np.math.factorial(i))\n",
    "\n",
    "def chi2_poisson(values: np.ndarray, counts: np.ndarray) -> tuple[float, int]:\n",
    "    n = int(np.sum(counts))\n",
    "    if n > 5:\n",
    "        while counts[-1] < 5 and len(counts) > 2:\n",
    "            counts[-2] += counts[-1]\n",
    "            counts = counts[:-1]\n",
    "            values = values[:-1]\n",
    "    lambda_s = np.sum(values * counts) / n\n",
    "    p = poisson_prob(lambda_s, values)\n",
    "    ni = p * n\n",
    "    delta_n = counts - ni\n",
    "    K = delta_n ** 2 / ni\n",
    "    k = len(values) - 2\n",
    "    return float(np.sum(K)), k"
   ],
   "metadata": {
    "collapsed": false
   }
  },
  {
   "cell_type": "code",
   "execution_count": 128,
   "outputs": [
    {
     "name": "stdout",
     "output_type": "stream",
     "text": [
      "chi2 = 6.613347972076096\n",
      "k = 2\n",
      "chi2_crit = 5.991464547107983\n",
      "Гипотезу отвергаем\n"
     ]
    },
    {
     "data": {
      "text/plain": "<Figure size 640x480 with 1 Axes>",
      "image/png": "[encoded data removed]"
     },
     "metadata": {},
     "output_type": "display_data"
    }
   ],
   "source": [
    "poisson = Poisson(LAMBDA_POISSON)\n",
    "vals, c = poisson.generate_n(N)\n",
    "plt.scatter(vals, c)\n",
    "plt.plot(vals, c)\n",
    "\n",
    "chi2, k = chi2_poisson(vals, c)\n",
    "chi2_crit = scipy.stats.chi2.isf(ALPHA, df=k)\n",
    "print(f\"chi2 = {chi2}\")\n",
    "print(f\"k = {k}\")\n",
    "print(f\"chi2_crit = {chi2_crit}\")\n",
    "print(f\"Гипотезу {'принимаем' if chi2 < chi2_crit else 'отвергаем'}\")"
   ],
   "metadata": {
    "collapsed": false
   }
  },
  {
   "cell_type": "markdown",
   "source": [
    "## Экспоненциальная случайная переменная"
   ],
   "metadata": {
    "collapsed": false
   }
  },
  {
   "cell_type": "code",
   "execution_count": 7,
   "outputs": [],
   "source": [
    "class Exponential(ContinuousRandomVariable):\n",
    "    def __init__(self, lambda_: float):\n",
    "        self._lambda = lambda_\n",
    "\n",
    "    @property\n",
    "    def lambda_(self) -> float:\n",
    "        return self._lambda\n",
    "\n",
    "    @lambda_.setter\n",
    "    def lambda_(self, value: float):\n",
    "        self._lambda = value\n",
    "\n",
    "    def generate(self) -> float:\n",
    "        u = np.random.uniform(0, 1)\n",
    "        return -1 / self._lambda * np.log(1 - u)\n",
    "\n",
    "\n",
    "exponential = Exponential(LAMBDA_EXP)"
   ],
   "metadata": {
    "collapsed": false
   }
  },
  {
   "cell_type": "code",
   "execution_count": 134,
   "outputs": [],
   "source": [
    "@np.vectorize\n",
    "def exp_prob(lambda_: float, start: float, end: float) -> float:\n",
    "    return np.exp(-lambda_ * start) - np.exp(-lambda_ * end)\n",
    "\n",
    "def chi2_exp(bins: np.ndarray, counts: np.ndarray) -> tuple[float, int]:\n",
    "    n = int(np.sum(counts))\n",
    "    if n > 5:\n",
    "        while counts[-1] < 5 and len(counts) > 2:\n",
    "            counts[-2] += counts[-1]\n",
    "            counts = counts[:-1]\n",
    "            bins = bins[:-1]\n",
    "    values = (bins[1:] + bins[:-1]) / 2\n",
    "    x_b = np.sum(values * counts) / n\n",
    "    lambda_s = 1 / x_b\n",
    "    p = exp_prob(lambda_s, bins[:-1], bins[1:])\n",
    "    ni = p * n\n",
    "    delta_n = counts - ni\n",
    "    K = delta_n ** 2 / ni\n",
    "    k = len(values) - 2\n",
    "    return float(np.sum(K)), k"
   ],
   "metadata": {
    "collapsed": false
   }
  },
  {
   "cell_type": "code",
   "execution_count": 174,
   "outputs": [
    {
     "name": "stdout",
     "output_type": "stream",
     "text": [
      "chi2 = 8.011655491295965\n",
      "k = 8\n",
      "chi2_crit = 15.507313055865454\n",
      "Гипотезу принимаем\n"
     ]
    },
    {
     "data": {
      "text/plain": "<Figure size 640x480 with 1 Axes>",
      "image/png": "[encoded data removed]"
     },
     "metadata": {},
     "output_type": "display_data"
    }
   ],
   "source": [
    "c, bins = exponential.generate_n(N)\n",
    "plt.stairs(c, bins, fill=True)\n",
    "\n",
    "chi2, k = chi2_exp(bins, c)\n",
    "chi2_crit = scipy.stats.chi2.isf(ALPHA, df=k, loc=0, scale=1)\n",
    "print(f\"chi2 = {chi2}\")\n",
    "print(f\"k = {k}\")\n",
    "print(f\"chi2_crit = {chi2_crit}\")\n",
    "print(f\"Гипотезу {'принимаем' if chi2 < chi2_crit else 'отвергаем'}\")"
   ],
   "metadata": {
    "collapsed": false
   }
  }
 ],
 "metadata": {
  "kernelspec": {
   "display_name": "Python 3",
   "language": "python",
   "name": "python3"
  },
  "language_info": {
   "codemirror_mode": {
    "name": "ipython",
    "version": 2
   },
   "file_extension": ".py",
   "mimetype": "text/x-python",
   "name": "python",
   "nbconvert_exporter": "python",
   "pygments_lexer": "ipython2",
   "version": "2.7.6"
  }
 },
 "nbformat": 4,
 "nbformat_minor": 0
}

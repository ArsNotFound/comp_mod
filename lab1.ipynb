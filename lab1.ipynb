{
 "cells": [
  {
   "cell_type": "code",
   "execution_count": 35,
   "metadata": {
    "collapsed": true
   },
   "outputs": [],
   "source": [
    "import abc\n",
    "import os\n",
    "import random\n",
    "\n",
    "import scipy.stats\n",
    "import numpy as np\n",
    "import pandas as pd\n",
    "import matplotlib.pyplot as plt\n",
    "%matplotlib inline\n",
    "\n",
    "random.seed(os.urandom(16))"
   ]
  },
  {
   "cell_type": "code",
   "execution_count": 36,
   "outputs": [],
   "source": [
    "class RandomVariable(abc.ABC):\n",
    "    @abc.abstractmethod\n",
    "    def generate(self) -> int | float:\n",
    "        pass\n",
    "\n",
    "    @abc.abstractmethod\n",
    "    def generate_n(self, n: int) -> tuple[np.ndarray, np.ndarray]:\n",
    "        pass\n",
    "\n",
    "    def __call__(self, *args, **kwargs):\n",
    "        return self.generate()\n",
    "\n",
    "\n",
    "class DiscreteRandomVariable(RandomVariable, abc.ABC):\n",
    "    @abc.abstractmethod\n",
    "    def generate(self) -> int:\n",
    "        pass\n",
    "\n",
    "    def generate_n(self, n: int) -> tuple[np.ndarray, np.ndarray]:\n",
    "        raw = np.array([self.generate() for _ in range(n)])\n",
    "        values, counts = np.unique(raw, return_counts=True)\n",
    "        return values, counts\n",
    "\n",
    "\n",
    "class ContinuousRandomVariable(RandomVariable, abc.ABC):\n",
    "    @abc.abstractmethod\n",
    "    def generate(self) -> float:\n",
    "        pass\n",
    "\n",
    "    def generate_n(self, n: int) -> tuple[np.ndarray, np.ndarray]:\n",
    "        raw = np.array([self.generate() for _ in range(n)])\n",
    "        k = int(np.floor(1 + np.log2(raw.size)))\n",
    "        bins = np.linspace(np.floor(raw.min()), np.ceil(raw.max()), k)\n",
    "        return np.histogram(raw, bins=bins)"
   ],
   "metadata": {
    "collapsed": false
   }
  },
  {
   "cell_type": "markdown",
   "source": [
    "## Параметры"
   ],
   "metadata": {
    "collapsed": false
   }
  },
  {
   "cell_type": "code",
   "execution_count": 37,
   "outputs": [],
   "source": [
    "# Параметр лямбда для пуассоновской случайной переменной\n",
    "LAMBDA_POISSON = 0.5\n",
    "# Параметр лямбда для экспоненциальной случайной переменной\n",
    "LAMBDA_EXP = 0.2\n",
    "# Количество экспериментов\n",
    "N = 200\n",
    "# Уровень значимости\n",
    "ALPHA = 0.05"
   ],
   "metadata": {
    "collapsed": false
   }
  },
  {
   "cell_type": "markdown",
   "source": [
    "## Пуассоновская случайная переменная"
   ],
   "metadata": {
    "collapsed": false
   }
  },
  {
   "cell_type": "code",
   "execution_count": 38,
   "outputs": [],
   "source": [
    "class Poisson(DiscreteRandomVariable):\n",
    "    def __init__(self, lambda_: float):\n",
    "        self._lambda = lambda_\n",
    "\n",
    "    @property\n",
    "    def lambda_(self) -> float:\n",
    "        return self._lambda\n",
    "\n",
    "    @lambda_.setter\n",
    "    def lambda_(self, value: float):\n",
    "        self._lambda = value\n",
    "\n",
    "    def generate(self) -> int:\n",
    "        u = np.random.uniform(0, 1)\n",
    "        i = 0\n",
    "        f = p = np.exp(-self._lambda)\n",
    "        while u >= f:\n",
    "            p = self._lambda * p / (i + 1)\n",
    "            f += p\n",
    "            i += 1\n",
    "        return i\n"
   ],
   "metadata": {
    "collapsed": false
   }
  },
  {
   "cell_type": "code",
   "execution_count": 39,
   "outputs": [],
   "source": [
    "@np.vectorize\n",
    "def poisson_prob(lambda_: float, i: int) -> float:\n",
    "    return np.exp(-lambda_) * (lambda_ ** i / np.math.factorial(i))\n",
    "\n",
    "def chi2_poisson(values: np.ndarray, counts: np.ndarray) -> tuple[float, int, pd.DataFrame]:\n",
    "    n = int(np.sum(counts))\n",
    "    lambda_s = np.sum(values * counts) / n\n",
    "    if n > 5:\n",
    "        while counts[-1] < 5 and len(counts) > 2:\n",
    "            counts[-2] += counts[-1]\n",
    "            counts = counts[:-1]\n",
    "            values = values[:-1]\n",
    "    p = poisson_prob(lambda_s, values)\n",
    "    ni = p * n\n",
    "    delta_n = counts - ni\n",
    "    delta_n2 = delta_n ** 2\n",
    "    k = delta_n2 / ni\n",
    "    table = pd.DataFrame({\"i\": values, \"n_i\": counts, \"n'_i\": ni, \"n_i - n'_i\": delta_n, \"(n_i - n'_i)^2\": delta_n2, \"K\": k}).set_index('i', drop=True)\n",
    "    df = len(values) - 2\n",
    "    return float(np.sum(k)), df, table"
   ],
   "metadata": {
    "collapsed": false
   }
  },
  {
   "cell_type": "code",
   "execution_count": 40,
   "outputs": [
    {
     "data": {
      "text/plain": "     n_i\nx_i     \n0    113\n1     73\n2      9\n3      3\n4      2",
      "text/html": "<div>\n<style scoped>\n    .dataframe tbody tr th:only-of-type {\n        vertical-align: middle;\n    }\n\n    .dataframe tbody tr th {\n        vertical-align: top;\n    }\n\n    .dataframe thead th {\n        text-align: right;\n    }\n</style>\n<table border=\"1\" class=\"dataframe\">\n  <thead>\n    <tr style=\"text-align: right;\">\n      <th></th>\n      <th>n_i</th>\n    </tr>\n    <tr>\n      <th>x_i</th>\n      <th></th>\n    </tr>\n  </thead>\n  <tbody>\n    <tr>\n      <th>0</th>\n      <td>113</td>\n    </tr>\n    <tr>\n      <th>1</th>\n      <td>73</td>\n    </tr>\n    <tr>\n      <th>2</th>\n      <td>9</td>\n    </tr>\n    <tr>\n      <th>3</th>\n      <td>3</td>\n    </tr>\n    <tr>\n      <th>4</th>\n      <td>2</td>\n    </tr>\n  </tbody>\n</table>\n</div>"
     },
     "metadata": {},
     "output_type": "display_data"
    },
    {
     "data": {
      "text/plain": "[<matplotlib.lines.Line2D at 0x7f0d8746ef80>]"
     },
     "execution_count": 40,
     "metadata": {},
     "output_type": "execute_result"
    },
    {
     "data": {
      "text/plain": "<Figure size 640x480 with 1 Axes>",
      "image/png": "[encoded data removed]"
     },
     "metadata": {},
     "output_type": "display_data"
    }
   ],
   "source": [
    "poisson = Poisson(LAMBDA_POISSON)\n",
    "vals, c = poisson.generate_n(N)\n",
    "t = pd.DataFrame({\"x_i\": vals, \"n_i\": c}).set_index(\"x_i\", drop=True)\n",
    "display(t)\n",
    "plt.scatter(vals, c)\n",
    "plt.plot(vals, c)"
   ],
   "metadata": {
    "collapsed": false
   }
  },
  {
   "cell_type": "code",
   "execution_count": 41,
   "outputs": [
    {
     "data": {
      "text/plain": "   n_i        n'_i  n_i - n'_i  (n_i - n'_i)^2         K\ni                                                       \n0  113  116.549650   -3.549650       12.600018  0.108109\n1   73   62.936811   10.063189      101.267768  1.609039\n2    9   16.992939   -7.992939       63.887074  3.759625\n3    5    3.058729    1.941271        3.768533  1.232058",
      "text/html": "<div>\n<style scoped>\n    .dataframe tbody tr th:only-of-type {\n        vertical-align: middle;\n    }\n\n    .dataframe tbody tr th {\n        vertical-align: top;\n    }\n\n    .dataframe thead th {\n        text-align: right;\n    }\n</style>\n<table border=\"1\" class=\"dataframe\">\n  <thead>\n    <tr style=\"text-align: right;\">\n      <th></th>\n      <th>n_i</th>\n      <th>n'_i</th>\n      <th>n_i - n'_i</th>\n      <th>(n_i - n'_i)^2</th>\n      <th>K</th>\n    </tr>\n    <tr>\n      <th>i</th>\n      <th></th>\n      <th></th>\n      <th></th>\n      <th></th>\n      <th></th>\n    </tr>\n  </thead>\n  <tbody>\n    <tr>\n      <th>0</th>\n      <td>113</td>\n      <td>116.549650</td>\n      <td>-3.549650</td>\n      <td>12.600018</td>\n      <td>0.108109</td>\n    </tr>\n    <tr>\n      <th>1</th>\n      <td>73</td>\n      <td>62.936811</td>\n      <td>10.063189</td>\n      <td>101.267768</td>\n      <td>1.609039</td>\n    </tr>\n    <tr>\n      <th>2</th>\n      <td>9</td>\n      <td>16.992939</td>\n      <td>-7.992939</td>\n      <td>63.887074</td>\n      <td>3.759625</td>\n    </tr>\n    <tr>\n      <th>3</th>\n      <td>5</td>\n      <td>3.058729</td>\n      <td>1.941271</td>\n      <td>3.768533</td>\n      <td>1.232058</td>\n    </tr>\n  </tbody>\n</table>\n</div>"
     },
     "metadata": {},
     "output_type": "display_data"
    },
    {
     "data": {
      "text/plain": "                   0\ndf                 2\nchi2        6.708831\nchi2_crit   5.991465\nH0         отвергаем",
      "text/html": "<div>\n<style scoped>\n    .dataframe tbody tr th:only-of-type {\n        vertical-align: middle;\n    }\n\n    .dataframe tbody tr th {\n        vertical-align: top;\n    }\n\n    .dataframe thead th {\n        text-align: right;\n    }\n</style>\n<table border=\"1\" class=\"dataframe\">\n  <thead>\n    <tr style=\"text-align: right;\">\n      <th></th>\n      <th>0</th>\n    </tr>\n  </thead>\n  <tbody>\n    <tr>\n      <th>df</th>\n      <td>2</td>\n    </tr>\n    <tr>\n      <th>chi2</th>\n      <td>6.708831</td>\n    </tr>\n    <tr>\n      <th>chi2_crit</th>\n      <td>5.991465</td>\n    </tr>\n    <tr>\n      <th>H0</th>\n      <td>отвергаем</td>\n    </tr>\n  </tbody>\n</table>\n</div>"
     },
     "metadata": {},
     "output_type": "display_data"
    }
   ],
   "source": [
    "chi2, df, t = chi2_poisson(vals.copy(), c.copy())\n",
    "display(t)\n",
    "chi2_crit = scipy.stats.chi2.isf(ALPHA, df=df, loc=0, scale=1)\n",
    "\n",
    "dft = pd.DataFrame.from_dict({\n",
    "    \"df\": df,\n",
    "    \"chi2\": chi2,\n",
    "    \"chi2_crit\": chi2_crit,\n",
    "    \"H0\": \"принимаем\" if chi2 < chi2_crit else \"отвергаем\"\n",
    "}, orient=\"index\")\n",
    "display(dft)"
   ],
   "metadata": {
    "collapsed": false
   }
  },
  {
   "cell_type": "markdown",
   "source": [
    "## Экспоненциальная случайная переменная"
   ],
   "metadata": {
    "collapsed": false
   }
  },
  {
   "cell_type": "code",
   "execution_count": 42,
   "outputs": [],
   "source": [
    "class Exponential(ContinuousRandomVariable):\n",
    "    def __init__(self, lambda_: float):\n",
    "        self._lambda = lambda_\n",
    "\n",
    "    @property\n",
    "    def lambda_(self) -> float:\n",
    "        return self._lambda\n",
    "\n",
    "    @lambda_.setter\n",
    "    def lambda_(self, value: float):\n",
    "        self._lambda = value\n",
    "\n",
    "    def generate(self) -> float:\n",
    "        u = np.random.uniform(0, 1)\n",
    "        return -1 / self._lambda * np.log(1 - u)\n",
    "\n",
    "\n",
    "exponential = Exponential(LAMBDA_EXP)"
   ],
   "metadata": {
    "collapsed": false
   }
  },
  {
   "cell_type": "code",
   "execution_count": 43,
   "outputs": [],
   "source": [
    "@np.vectorize\n",
    "def exp_prob(lambda_: float, start: float, end: float) -> float:\n",
    "    return np.exp(-lambda_ * start) - np.exp(-lambda_ * end)\n",
    "\n",
    "def chi2_exp(bins: np.ndarray, counts: np.ndarray) -> tuple[float, int, pd.DataFrame]:\n",
    "    n = int(np.sum(counts))\n",
    "    values = (bins[1:] + bins[:-1]) / 2\n",
    "    x_b = np.sum(values * counts) / n\n",
    "    if n > 5:\n",
    "        while counts[-1] < 5 and len(counts) > 2:\n",
    "            counts[-2] += counts[-1]\n",
    "            counts = counts[:-1]\n",
    "            bins = bins[:-1]\n",
    "            values = values[:-1]\n",
    "    lambda_s = 1 / x_b\n",
    "    p = exp_prob(lambda_s, bins[:-1], bins[1:])\n",
    "    ni = p * n\n",
    "    delta_n = counts - ni\n",
    "    delta_n2 = delta_n ** 2\n",
    "    k = delta_n2 / ni\n",
    "    table = pd.DataFrame({\"i\": values, \"n_i\": counts, \"n'_i\": ni, \"n_i - n'_i\": delta_n, \"(n_i - n'_i)^2\": delta_n2, \"K\": k}).set_index('i', drop=True)\n",
    "    df = len(values) - 2\n",
    "    return float(np.sum(k)), df, table"
   ],
   "metadata": {
    "collapsed": false
   }
  },
  {
   "cell_type": "code",
   "execution_count": 44,
   "outputs": [
    {
     "data": {
      "text/plain": "<matplotlib.patches.StepPatch at 0x7f0d87351ab0>"
     },
     "execution_count": 44,
     "metadata": {},
     "output_type": "execute_result"
    },
    {
     "data": {
      "text/plain": "<Figure size 640x480 with 1 Axes>",
      "image/png": "[encoded data removed]"
     },
     "metadata": {},
     "output_type": "display_data"
    }
   ],
   "source": [
    "c, b = exponential.generate_n(N)\n",
    "plt.stairs(c, b, fill=True)"
   ],
   "metadata": {
    "collapsed": false
   }
  },
  {
   "cell_type": "code",
   "execution_count": 45,
   "outputs": [
    {
     "data": {
      "text/plain": "           n_i        n'_i  n_i - n'_i  (n_i - n'_i)^2         K\ni                                                               \n1.928571   106  106.509382   -0.509382        0.259470  0.002436\n5.785714    53   49.788140    3.211860       10.316046  0.207199\n9.642857    22   23.273620   -1.273620        1.622108  0.069697\n13.500000   14   10.879326    3.120674        9.738609  0.895148\n17.357143    5    5.085574   -0.085574        0.007323  0.001440",
      "text/html": "<div>\n<style scoped>\n    .dataframe tbody tr th:only-of-type {\n        vertical-align: middle;\n    }\n\n    .dataframe tbody tr th {\n        vertical-align: top;\n    }\n\n    .dataframe thead th {\n        text-align: right;\n    }\n</style>\n<table border=\"1\" class=\"dataframe\">\n  <thead>\n    <tr style=\"text-align: right;\">\n      <th></th>\n      <th>n_i</th>\n      <th>n'_i</th>\n      <th>n_i - n'_i</th>\n      <th>(n_i - n'_i)^2</th>\n      <th>K</th>\n    </tr>\n    <tr>\n      <th>i</th>\n      <th></th>\n      <th></th>\n      <th></th>\n      <th></th>\n      <th></th>\n    </tr>\n  </thead>\n  <tbody>\n    <tr>\n      <th>1.928571</th>\n      <td>106</td>\n      <td>106.509382</td>\n      <td>-0.509382</td>\n      <td>0.259470</td>\n      <td>0.002436</td>\n    </tr>\n    <tr>\n      <th>5.785714</th>\n      <td>53</td>\n      <td>49.788140</td>\n      <td>3.211860</td>\n      <td>10.316046</td>\n      <td>0.207199</td>\n    </tr>\n    <tr>\n      <th>9.642857</th>\n      <td>22</td>\n      <td>23.273620</td>\n      <td>-1.273620</td>\n      <td>1.622108</td>\n      <td>0.069697</td>\n    </tr>\n    <tr>\n      <th>13.500000</th>\n      <td>14</td>\n      <td>10.879326</td>\n      <td>3.120674</td>\n      <td>9.738609</td>\n      <td>0.895148</td>\n    </tr>\n    <tr>\n      <th>17.357143</th>\n      <td>5</td>\n      <td>5.085574</td>\n      <td>-0.085574</td>\n      <td>0.007323</td>\n      <td>0.001440</td>\n    </tr>\n  </tbody>\n</table>\n</div>"
     },
     "metadata": {},
     "output_type": "display_data"
    },
    {
     "data": {
      "text/plain": "                   0\ndf                 3\nchi2         1.17592\nchi2_crit   7.814728\nH0         принимаем",
      "text/html": "<div>\n<style scoped>\n    .dataframe tbody tr th:only-of-type {\n        vertical-align: middle;\n    }\n\n    .dataframe tbody tr th {\n        vertical-align: top;\n    }\n\n    .dataframe thead th {\n        text-align: right;\n    }\n</style>\n<table border=\"1\" class=\"dataframe\">\n  <thead>\n    <tr style=\"text-align: right;\">\n      <th></th>\n      <th>0</th>\n    </tr>\n  </thead>\n  <tbody>\n    <tr>\n      <th>df</th>\n      <td>3</td>\n    </tr>\n    <tr>\n      <th>chi2</th>\n      <td>1.17592</td>\n    </tr>\n    <tr>\n      <th>chi2_crit</th>\n      <td>7.814728</td>\n    </tr>\n    <tr>\n      <th>H0</th>\n      <td>принимаем</td>\n    </tr>\n  </tbody>\n</table>\n</div>"
     },
     "metadata": {},
     "output_type": "display_data"
    }
   ],
   "source": [
    "chi2, df, t = chi2_exp(b.copy(), c.copy())\n",
    "display(t)\n",
    "chi2_crit = scipy.stats.chi2.isf(ALPHA, df=df, loc=0, scale=1)\n",
    "\n",
    "dft = pd.DataFrame.from_dict({\n",
    "    \"df\": df,\n",
    "    \"chi2\": chi2,\n",
    "    \"chi2_crit\": chi2_crit,\n",
    "    \"H0\": \"принимаем\" if chi2 < chi2_crit else \"отвергаем\"\n",
    "}, orient=\"index\")\n",
    "display(dft)"
   ],
   "metadata": {
    "collapsed": false
   }
  },
  {
   "cell_type": "code",
   "execution_count": 45,
   "outputs": [],
   "source": [],
   "metadata": {
    "collapsed": false
   }
  }
 ],
 "metadata": {
  "kernelspec": {
   "display_name": "Python 3",
   "language": "python",
   "name": "python3"
  },
  "language_info": {
   "codemirror_mode": {
    "name": "ipython",
    "version": 2
   },
   "file_extension": ".py",
   "mimetype": "text/x-python",
   "name": "python",
   "nbconvert_exporter": "python",
   "pygments_lexer": "ipython2",
   "version": "2.7.6"
  }
 },
 "nbformat": 4,
 "nbformat_minor": 0
}

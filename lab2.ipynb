{
 "cells": [
  {
   "cell_type": "code",
   "execution_count": 1,
   "metadata": {
    "collapsed": true,
    "ExecuteTime": {
     "start_time": "2023-04-05T09:25:29.177055Z",
     "end_time": "2023-04-05T09:25:29.955036Z"
    }
   },
   "outputs": [],
   "source": [
    "import os\n",
    "import abc\n",
    "from typing import Callable\n",
    "\n",
    "import numpy as np\n",
    "import pandas as pd\n",
    "import matplotlib.pyplot as plt\n",
    "import scipy.stats\n",
    "%matplotlib inline\n",
    "\n",
    "np.random.seed(int.from_bytes(os.urandom(4), byteorder=\"big\"))"
   ]
  },
  {
   "cell_type": "code",
   "execution_count": 2,
   "outputs": [],
   "source": [
    "class PoissonProcess(abc.ABC):\n",
    "    @abc.abstractmethod\n",
    "    def generate(self, t: float) -> float:\n",
    "        pass\n",
    "\n",
    "    @abc.abstractmethod\n",
    "    def generate_series(self, t: float) -> pd.Series:\n",
    "        pass"
   ],
   "metadata": {
    "collapsed": false,
    "ExecuteTime": {
     "start_time": "2023-04-05T09:25:29.957664Z",
     "end_time": "2023-04-05T09:25:29.960336Z"
    }
   }
  },
  {
   "cell_type": "code",
   "execution_count": 3,
   "outputs": [],
   "source": [
    "class HomogenousPoissonProcess(PoissonProcess):\n",
    "    def __init__(self, lambda_: float):\n",
    "        self.lambda_: float = lambda_\n",
    "\n",
    "    def generate(self, t: float) -> float:\n",
    "        u = np.random.uniform()\n",
    "        t = t - 1 / self.lambda_ * np.log(u)\n",
    "        return t\n",
    "\n",
    "    def generate_series(self, t: float) -> pd.Series:\n",
    "        t_ = 0\n",
    "        s = []\n",
    "        while True:\n",
    "            t_ = self.generate(t_)\n",
    "            if t_ > t:\n",
    "                break\n",
    "            s.append(t_)\n",
    "        s = pd.Series(s)\n",
    "        return s"
   ],
   "metadata": {
    "collapsed": false,
    "ExecuteTime": {
     "start_time": "2023-04-05T09:25:29.963502Z",
     "end_time": "2023-04-05T09:25:29.982681Z"
    }
   }
  },
  {
   "cell_type": "code",
   "execution_count": 4,
   "outputs": [],
   "source": [
    "class InhomogeneousPoissonProcess(PoissonProcess):\n",
    "    def __init__(self, lambda_: float, lambda_t: Callable[[float], float]):\n",
    "        self.lambda_: float = lambda_\n",
    "        self.lambda_t: Callable[[float], float] = lambda_t\n",
    "\n",
    "    def generate(self, t: float) -> float:\n",
    "        while True:\n",
    "            u1 = np.random.uniform()\n",
    "            t = t - 1 / self.lambda_ * np.log(u1)\n",
    "            u2 = np.random.uniform()\n",
    "            if u2 <= self.lambda_t(t) / self.lambda_:\n",
    "                return t\n",
    "\n",
    "    def generate_series(self, t: float) -> pd.Series:\n",
    "        t_ = 0\n",
    "        s = []\n",
    "        while True:\n",
    "            t_ = self.generate(t_)\n",
    "            if t_ > t:\n",
    "                break\n",
    "            s.append(t_)\n",
    "        s = pd.Series(s)\n",
    "        return s"
   ],
   "metadata": {
    "collapsed": false,
    "ExecuteTime": {
     "start_time": "2023-04-05T09:25:29.979131Z",
     "end_time": "2023-04-05T09:25:29.983886Z"
    }
   }
  },
  {
   "cell_type": "code",
   "execution_count": 32,
   "outputs": [],
   "source": [
    "@np.vectorize\n",
    "def exp_prob(lambda_: float, start: float, end: float) -> float:\n",
    "    return np.exp(-lambda_ * start) - np.exp(-lambda_ * end)\n",
    "\n",
    "def chi2_exp(bins: np.ndarray, counts: np.ndarray) -> tuple[float, int, pd.DataFrame]:\n",
    "    n = int(np.sum(counts))\n",
    "    values = (bins[1:] + bins[:-1]) / 2\n",
    "    x_b = np.sum(values * counts) / n\n",
    "    lambda_s = 1 / x_b\n",
    "    p = exp_prob(lambda_s, bins[:-1], bins[1:])\n",
    "    ni = p * n\n",
    "    delta_n = counts - ni\n",
    "    delta_n2 = delta_n ** 2\n",
    "    k = delta_n2 / ni\n",
    "    table = pd.DataFrame({\"i\": values, \"n_i\": counts, \"n'_i\": ni, \"n_i - n'_i\": delta_n, \"(n_i - n'_i)^2\": delta_n2, \"K\": k}).set_index('i', drop=True)\n",
    "    df = len(values) - 2\n",
    "    return float(np.sum(k)), df, table\n",
    "\n",
    "def chi2_test(pp: PoissonProcess, alpha: float, t: float):\n",
    "    inc = pp.generate_series(t)\n",
    "    display(inc)\n",
    "    inc = inc.to_numpy()\n",
    "    intervals = inc[1:] - inc[:-1]\n",
    "\n",
    "    b = np.linspace(np.floor(intervals.min()), np.ceil(intervals.max()), int(1 + np.log2(len(intervals))))\n",
    "    c, _ = np.histogram(intervals, bins=b)\n",
    "\n",
    "    plt.stairs(c, b)\n",
    "\n",
    "    chi2, df, t = chi2_exp(b.copy(), c.copy())\n",
    "\n",
    "    chi2_crit = scipy.stats.chi2.isf(alpha, df=df, loc=0, scale=1)\n",
    "\n",
    "    dft = pd.DataFrame.from_dict({\n",
    "        \"df\": df,\n",
    "        \"chi2\": chi2,\n",
    "        \"chi2_crit\": chi2_crit,\n",
    "        \"H0\": \"принимаем\" if chi2 < chi2_crit else \"отвергаем\"\n",
    "    }, orient=\"index\")\n",
    "    display(dft)"
   ],
   "metadata": {
    "collapsed": false,
    "ExecuteTime": {
     "start_time": "2023-04-05T09:32:03.111820Z",
     "end_time": "2023-04-05T09:32:03.155367Z"
    }
   }
  },
  {
   "cell_type": "code",
   "execution_count": 33,
   "outputs": [],
   "source": [
    "T = 100\n",
    "POISSON_LAMBDA = 2\n",
    "POISSON_LAMBDA_T = lambda t: 1 + 1 / np.sqrt(t)\n",
    "ALPHA = 0.05"
   ],
   "metadata": {
    "collapsed": false,
    "ExecuteTime": {
     "start_time": "2023-04-05T09:32:03.914183Z",
     "end_time": "2023-04-05T09:32:03.922185Z"
    }
   }
  },
  {
   "cell_type": "code",
   "execution_count": 34,
   "outputs": [],
   "source": [
    "hpp = HomogenousPoissonProcess(POISSON_LAMBDA)"
   ],
   "metadata": {
    "collapsed": false,
    "ExecuteTime": {
     "start_time": "2023-04-05T09:32:04.448583Z",
     "end_time": "2023-04-05T09:32:04.456776Z"
    }
   }
  },
  {
   "cell_type": "code",
   "execution_count": 35,
   "outputs": [
    {
     "data": {
      "text/plain": "0       0.384767\n1       1.292787\n2       1.847854\n3       2.490376\n4       3.515651\n         ...    \n172    97.119428\n173    97.315324\n174    98.089496\n175    98.526341\n176    98.809276\nLength: 177, dtype: float64"
     },
     "metadata": {},
     "output_type": "display_data"
    },
    {
     "data": {
      "text/plain": "                   0\ndf                 5\nchi2        6.774672\nchi2_crit  11.070498\nH0         принимаем",
      "text/html": "<div>\n<style scoped>\n    .dataframe tbody tr th:only-of-type {\n        vertical-align: middle;\n    }\n\n    .dataframe tbody tr th {\n        vertical-align: top;\n    }\n\n    .dataframe thead th {\n        text-align: right;\n    }\n</style>\n<table border=\"1\" class=\"dataframe\">\n  <thead>\n    <tr style=\"text-align: right;\">\n      <th></th>\n      <th>0</th>\n    </tr>\n  </thead>\n  <tbody>\n    <tr>\n      <th>df</th>\n      <td>5</td>\n    </tr>\n    <tr>\n      <th>chi2</th>\n      <td>6.774672</td>\n    </tr>\n    <tr>\n      <th>chi2_crit</th>\n      <td>11.070498</td>\n    </tr>\n    <tr>\n      <th>H0</th>\n      <td>принимаем</td>\n    </tr>\n  </tbody>\n</table>\n</div>"
     },
     "metadata": {},
     "output_type": "display_data"
    },
    {
     "data": {
      "text/plain": "<Figure size 640x480 with 1 Axes>",
      "image/png": "[encoded data removed]"
     },
     "metadata": {},
     "output_type": "display_data"
    }
   ],
   "source": [
    "chi2_test(hpp, ALPHA, T)"
   ],
   "metadata": {
    "collapsed": false,
    "ExecuteTime": {
     "start_time": "2023-04-05T09:32:04.961533Z",
     "end_time": "2023-04-05T09:32:05.157683Z"
    }
   }
  },
  {
   "cell_type": "code",
   "execution_count": 15,
   "outputs": [],
   "source": [
    "ipp = InhomogeneousPoissonProcess(POISSON_LAMBDA, POISSON_LAMBDA_T)"
   ],
   "metadata": {
    "collapsed": false,
    "ExecuteTime": {
     "start_time": "2023-04-05T09:30:35.489498Z",
     "end_time": "2023-04-05T09:30:35.531127Z"
    }
   }
  },
  {
   "cell_type": "code",
   "execution_count": 22,
   "outputs": [
    {
     "data": {
      "text/plain": "0     0.473240\n1     1.512422\n2     2.724584\n3     3.761417\n4     4.403459\n5     5.417829\n6     6.471744\n7     7.490457\n8     9.148791\n9     9.222852\n10    9.357586\ndtype: float64"
     },
     "execution_count": 22,
     "metadata": {},
     "output_type": "execute_result"
    }
   ],
   "source": [
    "ipp.generate_series(10)"
   ],
   "metadata": {
    "collapsed": false,
    "ExecuteTime": {
     "start_time": "2023-04-05T09:30:42.350066Z",
     "end_time": "2023-04-05T09:30:42.355205Z"
    }
   }
  },
  {
   "cell_type": "code",
   "execution_count": 16,
   "outputs": [],
   "source": [],
   "metadata": {
    "collapsed": false,
    "ExecuteTime": {
     "start_time": "2023-04-05T09:30:37.254971Z",
     "end_time": "2023-04-05T09:30:37.295653Z"
    }
   }
  },
  {
   "cell_type": "code",
   "execution_count": null,
   "outputs": [],
   "source": [],
   "metadata": {
    "collapsed": false
   }
  }
 ],
 "metadata": {
  "kernelspec": {
   "display_name": "Python 3",
   "language": "python",
   "name": "python3"
  },
  "language_info": {
   "codemirror_mode": {
    "name": "ipython",
    "version": 2
   },
   "file_extension": ".py",
   "mimetype": "text/x-python",
   "name": "python",
   "nbconvert_exporter": "python",
   "pygments_lexer": "ipython2",
   "version": "2.7.6"
  }
 },
 "nbformat": 4,
 "nbformat_minor": 0
}

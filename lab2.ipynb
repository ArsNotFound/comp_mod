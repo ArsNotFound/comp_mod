{
 "cells": [
  {
   "cell_type": "code",
   "execution_count": 1,
   "metadata": {
    "collapsed": true
   },
   "outputs": [],
   "source": [
    "import os\n",
    "import abc\n",
    "from typing import Callable\n",
    "\n",
    "import numpy as np\n",
    "import pandas as pd\n",
    "import matplotlib.pyplot as plt\n",
    "import scipy.stats\n",
    "%matplotlib inline\n",
    "\n",
    "np.random.seed(int.from_bytes(os.urandom(4), byteorder=\"big\"))"
   ]
  },
  {
   "cell_type": "code",
   "execution_count": 2,
   "outputs": [],
   "source": [
    "class PoissonProcess(abc.ABC):\n",
    "    @abc.abstractmethod\n",
    "    def generate_series(self, t: float) -> pd.Series:\n",
    "        pass"
   ],
   "metadata": {
    "collapsed": false
   }
  },
  {
   "cell_type": "code",
   "execution_count": 3,
   "outputs": [],
   "source": [
    "class HomogenousPoissonProcess(PoissonProcess):\n",
    "    def __init__(self, lambda_: float):\n",
    "        self.lambda_: float = lambda_\n",
    "\n",
    "    def generate_series(self, t: float) -> pd.Series:\n",
    "        t_ = 0\n",
    "        s = []\n",
    "        while True:\n",
    "            u = np.random.uniform()\n",
    "            t_ = t_ - 1 / self.lambda_ * np.log(u)\n",
    "            if t_ > t:\n",
    "                break\n",
    "            s.append(t_)\n",
    "        s = pd.Series(s)\n",
    "        return s"
   ],
   "metadata": {
    "collapsed": false
   }
  },
  {
   "cell_type": "code",
   "execution_count": 4,
   "outputs": [],
   "source": [
    "class InhomogeneousPoissonProcess(PoissonProcess):\n",
    "    def __init__(self, lambda_: float, lambda_t: Callable[[float], float]):\n",
    "        self.lambda_: float = lambda_\n",
    "        self.lambda_t: Callable[[float], float] = lambda_t\n",
    "\n",
    "    def generate_series(self, t: float) -> pd.Series:\n",
    "        t_ = 0\n",
    "        s = []\n",
    "        while True:\n",
    "            u1 = np.random.uniform()\n",
    "            t_ = t_ - 1 / self.lambda_ * np.log(u1)\n",
    "            if t_ > t:\n",
    "                break\n",
    "            u2 = np.random.uniform()\n",
    "            if u2 <= self.lambda_t(t_) / self.lambda_:\n",
    "                s.append(t_)\n",
    "        s = pd.Series(s)\n",
    "        return s"
   ],
   "metadata": {
    "collapsed": false
   }
  },
  {
   "cell_type": "code",
   "execution_count": 5,
   "outputs": [],
   "source": [
    "class RandomVariable(abc.ABC):\n",
    "    @abc.abstractmethod\n",
    "    def generate(self) -> float | int:\n",
    "        pass\n",
    "\n",
    "    def generate_series(self, n: int) -> pd.Series:\n",
    "        return pd.Series([self.generate() for _ in range(n)])"
   ],
   "metadata": {
    "collapsed": false
   }
  },
  {
   "cell_type": "code",
   "execution_count": 6,
   "outputs": [],
   "source": [
    "class ExponentialRandomVariable(RandomVariable):\n",
    "    def __init__(self, lambda_: float):\n",
    "        self.lambda_: float = lambda_\n",
    "\n",
    "    def generate(self) -> float:\n",
    "        u = np.random.uniform(0, 1)\n",
    "        return -1 / self.lambda_ * np.log(1 - u)"
   ],
   "metadata": {
    "collapsed": false
   }
  },
  {
   "cell_type": "code",
   "execution_count": 7,
   "outputs": [],
   "source": [
    "@np.vectorize\n",
    "def exp_prob(lambda_: float, start: float, end: float) -> float:\n",
    "    return np.exp(-lambda_ * start) - np.exp(-lambda_ * end)\n",
    "\n",
    "def chi2_exp(bins: np.ndarray, counts: np.ndarray) -> tuple[float, int, pd.DataFrame]:\n",
    "    n = int(np.sum(counts))\n",
    "    values = (bins[1:] + bins[:-1]) / 2\n",
    "    x_b = np.sum(values * counts) / n\n",
    "    lambda_s = 1 / x_b\n",
    "    p = exp_prob(lambda_s, bins[:-1], bins[1:])\n",
    "    ni = p * n\n",
    "    delta_n = counts - ni\n",
    "    delta_n2 = delta_n ** 2\n",
    "    k = delta_n2 / ni\n",
    "    table = pd.DataFrame({\"i\": values, \"n_i\": counts, \"n'_i\": ni, \"n_i - n'_i\": delta_n, \"(n_i - n'_i)^2\": delta_n2, \"K\": k}).set_index('i', drop=True)\n",
    "    df = len(values) - 2\n",
    "    return float(np.sum(k)), df, table\n",
    "\n",
    "def chi2_test(pp: PoissonProcess, alpha: float, t: float):\n",
    "    inc = pp.generate_series(t).to_numpy()\n",
    "    display(inc)\n",
    "    intervals = inc[1:] - inc[:-1]\n",
    "\n",
    "    b = np.linspace(np.floor(intervals.min()), np.ceil(intervals.max()), int(1 + np.log2(len(intervals))))\n",
    "    c, _ = np.histogram(intervals, bins=b)\n",
    "\n",
    "    display(b)\n",
    "    display(c)\n",
    "    plt.stairs(c, b)\n",
    "\n",
    "    chi2, df, t = chi2_exp(b.copy(), c.copy())\n",
    "    display(t)\n",
    "\n",
    "    chi2_crit = scipy.stats.chi2.isf(alpha, df=df, loc=0, scale=1)\n",
    "\n",
    "    dft = pd.DataFrame.from_dict({\n",
    "        \"df\": df,\n",
    "        \"chi2\": chi2,\n",
    "        \"chi2_crit\": chi2_crit,\n",
    "        \"H0\": \"принимаем\" if chi2 < chi2_crit else \"отвергаем\"\n",
    "    }, orient=\"index\")\n",
    "    display(dft)"
   ],
   "metadata": {
    "collapsed": false
   }
  },
  {
   "cell_type": "code",
   "execution_count": 8,
   "outputs": [],
   "source": [
    "T = 100\n",
    "POISSON_LAMBDA = 1\n",
    "POISSON_LAMBDA_T = lambda t: 1 + 1 / np.sqrt(t)\n",
    "ALPHA = 0.05"
   ],
   "metadata": {
    "collapsed": false
   }
  },
  {
   "cell_type": "code",
   "execution_count": 9,
   "outputs": [],
   "source": [
    "hpp = HomogenousPoissonProcess(POISSON_LAMBDA)"
   ],
   "metadata": {
    "collapsed": false
   }
  },
  {
   "cell_type": "code",
   "execution_count": 10,
   "outputs": [
    {
     "data": {
      "text/plain": "array([ 1.67393923,  2.97610599,  3.40615884,  4.30376483,  4.32283669,\n        4.40653048,  6.20411721,  6.36873803,  7.72241423, 10.7237638 ,\n       11.43880647, 12.82919383, 12.98878066, 14.94208401, 15.45648327,\n       15.76247482, 15.85287625, 16.16954223, 16.71540595, 18.22714828,\n       18.38952637, 19.37796475, 19.79896333, 21.86691218, 22.05486946,\n       25.5099185 , 26.05241055, 26.62029894, 28.52509989, 29.7148273 ,\n       30.04661805, 32.6190244 , 33.46225895, 34.76564172, 36.12463437,\n       36.89912632, 36.91064624, 37.38340806, 38.63779604, 39.39735637,\n       39.59928887, 41.31475684, 42.14034215, 42.16188828, 44.11372397,\n       47.28954737, 48.15649747, 49.0433057 , 51.26557912, 52.61078863,\n       53.73636518, 53.83009609, 55.0446291 , 58.54703516, 60.58225402,\n       61.56745544, 62.5309528 , 62.72835655, 62.74979198, 63.28585841,\n       63.6418544 , 63.75027661, 63.89725302, 65.63664274, 66.97435478,\n       68.91551987, 71.66588931, 72.17142691, 73.19952835, 74.18433352,\n       75.7824604 , 76.37417075, 76.99251456, 77.00825883, 77.02460957,\n       77.67236338, 79.083053  , 80.20985001, 81.08941192, 81.500217  ,\n       82.90900279, 83.51356521, 83.66157213, 84.21124595, 84.48215104,\n       85.5167916 , 85.88912409, 86.38581524, 87.16942338, 89.25224466,\n       89.5205593 , 91.33459553, 91.37737094, 92.71121858, 93.5529404 ,\n       94.20682613, 94.31400079, 96.21781484, 96.28884297, 97.59820627,\n       97.69982987])"
     },
     "metadata": {},
     "output_type": "display_data"
    },
    {
     "data": {
      "text/plain": "array([0.        , 0.66666667, 1.33333333, 2.        , 2.66666667,\n       3.33333333, 4.        ])"
     },
     "metadata": {},
     "output_type": "display_data"
    },
    {
     "data": {
      "text/plain": "array([46, 25, 19,  5,  3,  2])"
     },
     "metadata": {},
     "output_type": "display_data"
    },
    {
     "data": {
      "text/plain": "          n_i       n'_i  n_i - n'_i  (n_i - n'_i)^2         K\ni                                                             \n0.333333   46  48.658288   -2.658288        7.066496  0.145227\n1.000000   25  24.981998    0.018002        0.000324  0.000013\n1.666667   19  12.826185    6.173815       38.115986  2.971732\n2.333333    5   6.585183   -1.585183        2.512806  0.381585\n3.000000    3   3.380946   -0.380946        0.145120  0.042923\n3.666667    2   1.735835    0.264165        0.069783  0.040201",
      "text/html": "<div>\n<style scoped>\n    .dataframe tbody tr th:only-of-type {\n        vertical-align: middle;\n    }\n\n    .dataframe tbody tr th {\n        vertical-align: top;\n    }\n\n    .dataframe thead th {\n        text-align: right;\n    }\n</style>\n<table border=\"1\" class=\"dataframe\">\n  <thead>\n    <tr style=\"text-align: right;\">\n      <th></th>\n      <th>n_i</th>\n      <th>n'_i</th>\n      <th>n_i - n'_i</th>\n      <th>(n_i - n'_i)^2</th>\n      <th>K</th>\n    </tr>\n    <tr>\n      <th>i</th>\n      <th></th>\n      <th></th>\n      <th></th>\n      <th></th>\n      <th></th>\n    </tr>\n  </thead>\n  <tbody>\n    <tr>\n      <th>0.333333</th>\n      <td>46</td>\n      <td>48.658288</td>\n      <td>-2.658288</td>\n      <td>7.066496</td>\n      <td>0.145227</td>\n    </tr>\n    <tr>\n      <th>1.000000</th>\n      <td>25</td>\n      <td>24.981998</td>\n      <td>0.018002</td>\n      <td>0.000324</td>\n      <td>0.000013</td>\n    </tr>\n    <tr>\n      <th>1.666667</th>\n      <td>19</td>\n      <td>12.826185</td>\n      <td>6.173815</td>\n      <td>38.115986</td>\n      <td>2.971732</td>\n    </tr>\n    <tr>\n      <th>2.333333</th>\n      <td>5</td>\n      <td>6.585183</td>\n      <td>-1.585183</td>\n      <td>2.512806</td>\n      <td>0.381585</td>\n    </tr>\n    <tr>\n      <th>3.000000</th>\n      <td>3</td>\n      <td>3.380946</td>\n      <td>-0.380946</td>\n      <td>0.145120</td>\n      <td>0.042923</td>\n    </tr>\n    <tr>\n      <th>3.666667</th>\n      <td>2</td>\n      <td>1.735835</td>\n      <td>0.264165</td>\n      <td>0.069783</td>\n      <td>0.040201</td>\n    </tr>\n  </tbody>\n</table>\n</div>"
     },
     "metadata": {},
     "output_type": "display_data"
    },
    {
     "data": {
      "text/plain": "                   0\ndf                 4\nchi2        3.581681\nchi2_crit   9.487729\nH0         принимаем",
      "text/html": "<div>\n<style scoped>\n    .dataframe tbody tr th:only-of-type {\n        vertical-align: middle;\n    }\n\n    .dataframe tbody tr th {\n        vertical-align: top;\n    }\n\n    .dataframe thead th {\n        text-align: right;\n    }\n</style>\n<table border=\"1\" class=\"dataframe\">\n  <thead>\n    <tr style=\"text-align: right;\">\n      <th></th>\n      <th>0</th>\n    </tr>\n  </thead>\n  <tbody>\n    <tr>\n      <th>df</th>\n      <td>4</td>\n    </tr>\n    <tr>\n      <th>chi2</th>\n      <td>3.581681</td>\n    </tr>\n    <tr>\n      <th>chi2_crit</th>\n      <td>9.487729</td>\n    </tr>\n    <tr>\n      <th>H0</th>\n      <td>принимаем</td>\n    </tr>\n  </tbody>\n</table>\n</div>"
     },
     "metadata": {},
     "output_type": "display_data"
    },
    {
     "data": {
      "text/plain": "<Figure size 640x480 with 1 Axes>",
      "image/png": "[encoded data removed]"
     },
     "metadata": {},
     "output_type": "display_data"
    }
   ],
   "source": [
    "chi2_test(hpp, ALPHA, T)"
   ],
   "metadata": {
    "collapsed": false
   }
  },
  {
   "cell_type": "code",
   "execution_count": 11,
   "outputs": [],
   "source": [
    "ipp = InhomogeneousPoissonProcess(POISSON_LAMBDA, POISSON_LAMBDA_T)"
   ],
   "metadata": {
    "collapsed": false
   }
  },
  {
   "cell_type": "code",
   "execution_count": 21,
   "outputs": [
    {
     "data": {
      "text/plain": "0    0.082784\n1    1.331946\n2    1.901004\n3    4.032374\n4    4.622639\n5    4.910795\n6    5.290326\n7    7.181454\n8    8.868396\n9    9.927527\ndtype: float64"
     },
     "execution_count": 21,
     "metadata": {},
     "output_type": "execute_result"
    }
   ],
   "source": [
    "hpp.generate_series(10)"
   ],
   "metadata": {
    "collapsed": false
   }
  },
  {
   "cell_type": "code",
   "execution_count": 13,
   "outputs": [],
   "source": [
    "EXP_LAMBDA = 1"
   ],
   "metadata": {
    "collapsed": false
   }
  },
  {
   "cell_type": "code",
   "execution_count": 14,
   "outputs": [],
   "source": [
    "erv = ExponentialRandomVariable(EXP_LAMBDA)"
   ],
   "metadata": {
    "collapsed": false
   }
  },
  {
   "cell_type": "code",
   "execution_count": 15,
   "outputs": [],
   "source": [
    "def simulate_mss(t: float, incoming_proc: PoissonProcess, process_func: RandomVariable) -> pd.DataFrame:\n",
    "    incoming = incoming_proc.generate_series(t)\n",
    "    processing = process_func.generate_series(len(incoming))\n",
    "    raw_ending = [incoming[0] + processing[0]]\n",
    "    raw_starting = [incoming[0]]\n",
    "    for i in range(1, len(incoming)):\n",
    "        if incoming[i] >= raw_ending[i-1]:\n",
    "            raw_ending.append(incoming[i] + processing[i])\n",
    "            raw_starting.append(incoming[i])\n",
    "        else:\n",
    "            raw_ending.append(raw_ending[i-1] + processing[i])\n",
    "            raw_starting.append(raw_ending[i-1])\n",
    "    df = pd.DataFrame({\n",
    "        \"incoming\": incoming,\n",
    "        \"starting\": raw_starting,\n",
    "        \"processing\": processing,\n",
    "        \"ending\": raw_ending\n",
    "    })\n",
    "    df.index += 1\n",
    "    return df"
   ],
   "metadata": {
    "collapsed": false
   }
  },
  {
   "cell_type": "code",
   "execution_count": 16,
   "outputs": [
    {
     "data": {
      "text/plain": "    incoming   starting  processing     ending\n1   0.521395   0.521395    2.528559   3.049953\n2   2.754354   3.049953    0.115675   3.165628\n3   2.938716   3.165628    0.692283   3.857911\n4   4.834087   4.834087    1.755694   6.589781\n5   6.416539   6.589781    0.902498   7.492279\n6   7.323421   7.492279    0.761132   8.253411\n7   7.427359   8.253411    1.392769   9.646181\n8   9.280971   9.646181    1.234111  10.880291\n9   9.374446  10.880291    1.585622  12.465914\n10  9.903401  12.465914    0.821640  13.287553",
      "text/html": "<div>\n<style scoped>\n    .dataframe tbody tr th:only-of-type {\n        vertical-align: middle;\n    }\n\n    .dataframe tbody tr th {\n        vertical-align: top;\n    }\n\n    .dataframe thead th {\n        text-align: right;\n    }\n</style>\n<table border=\"1\" class=\"dataframe\">\n  <thead>\n    <tr style=\"text-align: right;\">\n      <th></th>\n      <th>incoming</th>\n      <th>starting</th>\n      <th>processing</th>\n      <th>ending</th>\n    </tr>\n  </thead>\n  <tbody>\n    <tr>\n      <th>1</th>\n      <td>0.521395</td>\n      <td>0.521395</td>\n      <td>2.528559</td>\n      <td>3.049953</td>\n    </tr>\n    <tr>\n      <th>2</th>\n      <td>2.754354</td>\n      <td>3.049953</td>\n      <td>0.115675</td>\n      <td>3.165628</td>\n    </tr>\n    <tr>\n      <th>3</th>\n      <td>2.938716</td>\n      <td>3.165628</td>\n      <td>0.692283</td>\n      <td>3.857911</td>\n    </tr>\n    <tr>\n      <th>4</th>\n      <td>4.834087</td>\n      <td>4.834087</td>\n      <td>1.755694</td>\n      <td>6.589781</td>\n    </tr>\n    <tr>\n      <th>5</th>\n      <td>6.416539</td>\n      <td>6.589781</td>\n      <td>0.902498</td>\n      <td>7.492279</td>\n    </tr>\n    <tr>\n      <th>6</th>\n      <td>7.323421</td>\n      <td>7.492279</td>\n      <td>0.761132</td>\n      <td>8.253411</td>\n    </tr>\n    <tr>\n      <th>7</th>\n      <td>7.427359</td>\n      <td>8.253411</td>\n      <td>1.392769</td>\n      <td>9.646181</td>\n    </tr>\n    <tr>\n      <th>8</th>\n      <td>9.280971</td>\n      <td>9.646181</td>\n      <td>1.234111</td>\n      <td>10.880291</td>\n    </tr>\n    <tr>\n      <th>9</th>\n      <td>9.374446</td>\n      <td>10.880291</td>\n      <td>1.585622</td>\n      <td>12.465914</td>\n    </tr>\n    <tr>\n      <th>10</th>\n      <td>9.903401</td>\n      <td>12.465914</td>\n      <td>0.821640</td>\n      <td>13.287553</td>\n    </tr>\n  </tbody>\n</table>\n</div>"
     },
     "metadata": {},
     "output_type": "display_data"
    }
   ],
   "source": [
    "mss = simulate_mss(10, hpp, erv)\n",
    "display(mss)"
   ],
   "metadata": {
    "collapsed": false
   }
  },
  {
   "cell_type": "code",
   "execution_count": 16,
   "outputs": [],
   "source": [],
   "metadata": {
    "collapsed": false
   }
  }
 ],
 "metadata": {
  "kernelspec": {
   "display_name": "Python 3",
   "language": "python",
   "name": "python3"
  },
  "language_info": {
   "codemirror_mode": {
    "name": "ipython",
    "version": 2
   },
   "file_extension": ".py",
   "mimetype": "text/x-python",
   "name": "python",
   "nbconvert_exporter": "python",
   "pygments_lexer": "ipython2",
   "version": "2.7.6"
  }
 },
 "nbformat": 4,
 "nbformat_minor": 0
}
